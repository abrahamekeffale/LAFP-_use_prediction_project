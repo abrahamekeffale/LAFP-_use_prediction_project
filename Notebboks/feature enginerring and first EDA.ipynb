{
 "cells": [
  {
   "cell_type": "code",
   "execution_count": 1,
   "id": "ee531407",
   "metadata": {},
   "outputs": [],
   "source": [
    "import pandas as pd"
   ]
  },
  {
   "cell_type": "code",
   "execution_count": 18,
   "id": "e8643943",
   "metadata": {},
   "outputs": [],
   "source": [
    "df=pd.read_csv(r\"C:\\Users\\HP\\Desktop\\edited\\sub saharan csv.csv\")"
   ]
  },
  {
   "cell_type": "code",
   "execution_count": 20,
   "id": "d4f72102",
   "metadata": {},
   "outputs": [
    {
     "data": {
      "text/plain": [
       "country                         0\n",
       "ur                           2043\n",
       "age                            98\n",
       "marital_status               1914\n",
       "religion                     1073\n",
       "num_HH_members                  1\n",
       "radio                           3\n",
       "tv                              3\n",
       "school                         78\n",
       "pregnant                        9\n",
       "heard_implants                  0\n",
       "heard_IUD                       0\n",
       "current_user                    0\n",
       "current_method                 56\n",
       "fp_side_effects              1780\n",
       "fp_ever_used                   11\n",
       "age_at_first_use              705\n",
       "age_at_first_use_children     132\n",
       "visited_by_health_worker        0\n",
       "visited_a_facility            190\n",
       "facility_fp_discussion       3045\n",
       "fp_ad_radio                     0\n",
       "fp_ad_tv                        0\n",
       "fp_ad_magazine                  0\n",
       "age_at_first_sex               82\n",
       "wealthquintile               2043\n",
       "dtype: int64"
      ]
     },
     "execution_count": 20,
     "metadata": {},
     "output_type": "execute_result"
    }
   ],
   "source": [
    "df.isnull().sum()"
   ]
  },
  {
   "cell_type": "code",
   "execution_count": 11,
   "id": "b250f4cd",
   "metadata": {},
   "outputs": [
    {
     "name": "stdout",
     "output_type": "stream",
     "text": [
      "Missing Values (%):\n",
      " facility_fp_discussion       21.33\n",
      "ur                           14.31\n",
      "wealthquintile               14.31\n",
      "marital_status               13.41\n",
      "fp_side_effects              12.47\n",
      "religion                      7.52\n",
      "age_at_first_use              4.94\n",
      "visited_a_facility            1.33\n",
      "age_at_first_use_children     0.92\n",
      "age                           0.69\n",
      "age_at_first_sex              0.57\n",
      "school                        0.55\n",
      "current_method                0.39\n",
      "fp_ever_used                  0.08\n",
      "pregnant                      0.06\n",
      "radio                         0.02\n",
      "tv                            0.02\n",
      "num_HH_members                0.01\n",
      "country                       0.00\n",
      "heard_IUD                     0.00\n",
      "current_user                  0.00\n",
      "heard_implants                0.00\n",
      "fp_ad_radio                   0.00\n",
      "visited_by_health_worker      0.00\n",
      "fp_ad_magazine                0.00\n",
      "fp_ad_tv                      0.00\n",
      "dtype: float64\n"
     ]
    }
   ],
   "source": [
    "missing_percent = (df.isnull().mean() * 100).round(2)\n",
    "missing_percent_sorted = missing_percent.sort_values(ascending=False)\n",
    "print(\"Missing Values (%):\\n\", missing_percent_sorted)"
   ]
  },
  {
   "cell_type": "code",
   "execution_count": 17,
   "id": "35ee2def",
   "metadata": {},
   "outputs": [],
   "source": [
    "# we will drop facility_fp_discussion   since missing value is > 20% and now generate our dependent variable and save the file in to csv\n",
    "#we exclude current user and current method because highly correlated with the output variable\n",
    "#and we exclude country column because we train as sub saharan"
   ]
  },
  {
   "cell_type": "code",
   "execution_count": 21,
   "id": "fabe86b4",
   "metadata": {},
   "outputs": [
    {
     "name": "stdout",
     "output_type": "stream",
     "text": [
      "Processed data saved to: C:\\Users\\HP\\Desktop\\edited\\merged_Sub_saharan_final.csv\n"
     ]
    }
   ],
   "source": [
    "import pandas as pd\n",
    "from sklearn.model_selection import train_test_split\n",
    "from sklearn.pipeline import Pipeline\n",
    "from sklearn.impute import SimpleImputer\n",
    "from sklearn.preprocessing import StandardScaler, OneHotEncoder\n",
    "from sklearn.compose import ColumnTransformer\n",
    "from sklearn.linear_model import LogisticRegression\n",
    "from sklearn.ensemble import RandomForestClassifier, GradientBoostingClassifier\n",
    "from sklearn.svm import SVC\n",
    "from sklearn.metrics import classification_report\n",
    "import xgboost as xgb\n",
    "\n",
    "# Load your data first\n",
    "input_path = r\"C:\\Users\\HP\\Desktop\\edited\\sub saharan csv.csv\" # Path to your raw data file\n",
    "df = pd.read_csv(input_path)  # Or pd.read_excel() for Excel files\n",
    "\n",
    "# Create target variable\n",
    "df['long_acting_user'] = df['current_method'].apply(\n",
    "    lambda x: 1 if x in ['IUD', 'implant'] else 0\n",
    ")\n",
    "\n",
    "# Drop columns (corrected syntax)\n",
    "df = df.drop(['facility_fp_discussion', 'country', 'current_user'], axis=1)\n",
    "\n",
    "# Save processed data to CSV\n",
    "output_path = r\"C:\\Users\\HP\\Desktop\\edited\\merged_Sub_saharan_final.csv\"\n",
    "df.to_csv(output_path, index=False)\n",
    "print(f\"Processed data saved to: {output_path}\")"
   ]
  }
 ],
 "metadata": {
  "kernelspec": {
   "display_name": "LAFP",
   "language": "python",
   "name": "python3"
  },
  "language_info": {
   "codemirror_mode": {
    "name": "ipython",
    "version": 3
   },
   "file_extension": ".py",
   "mimetype": "text/x-python",
   "name": "python",
   "nbconvert_exporter": "python",
   "pygments_lexer": "ipython3",
   "version": "3.12.3"
  }
 },
 "nbformat": 4,
 "nbformat_minor": 5
}
